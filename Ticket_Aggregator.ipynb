{
 "cells": [
  {
   "cell_type": "markdown",
   "id": "c273dab6",
   "metadata": {},
   "source": [
    "# Ticket Aggregator"
   ]
  },
  {
   "cell_type": "markdown",
   "id": "749fcc3d",
   "metadata": {},
   "source": [
    "<b>Conditions.</b>\n",
    "\n",
    "There are four criteria that people value the most: the ticket price, the number of transfers, a refund (either included or not), and luggage (either included or not);\n",
    "\n",
    "The cheaper, the better! People say that the best offer is the one which costs less than $200; it should be either a direct flight or a flight with one transfer; refund is included; luggage is included;\n",
    "\n",
    "Then, customers say that they consider an offer 'good enough' if its price is in a range from \\\\$200 to \\\\$250; it is either a direct flight or might require one or two transfers; refund is either included or not; the same for luggage - it is either included or not;\n",
    "\n",
    "Finally, customers claim that the worst offer is the one which price is more than $250; three and more transfers are required; refund is either included or not; the same for luggage - it is either included or not."
   ]
  },
  {
   "cell_type": "markdown",
   "id": "8b206802",
   "metadata": {},
   "source": [
    "## Stages\n",
    "\n",
    "[Step 1. Creating an aggregator](#a)\n",
    "\n",
    "[Step 2. Aggregator Analysis](#b)\n",
    "    \n",
    "[Step 3. Alternative solution](#c)"
   ]
  },
  {
   "cell_type": "markdown",
   "id": "45e173e0",
   "metadata": {},
   "source": [
    "<a id='a'></a>"
   ]
  },
  {
   "cell_type": "markdown",
   "id": "e4df21eb",
   "metadata": {},
   "source": [
    "## Creating a classifier"
   ]
  },
  {
   "cell_type": "code",
   "execution_count": 5,
   "id": "c388aa50",
   "metadata": {},
   "outputs": [
    {
     "name": "stdout",
     "output_type": "stream",
     "text": [
      "The price of your ticket: 100\n",
      "\n",
      "The number of your transfers: 0\n",
      "\n",
      "Is refund included? (yes / no): no\n",
      "\n",
      "Is luggage included? (yes / no): no\n",
      "\n",
      "------------------------------------\n",
      "\n",
      "Offer class: other\n"
     ]
    }
   ],
   "source": [
    "while True:\n",
    "    try:\n",
    "        price = float(input(\"The price of your ticket: \"))\n",
    "        if price >= 0:\n",
    "            break\n",
    "        else:\n",
    "            print(\"Please try again and enter non-negative number\")\n",
    "    except (ValueError):\n",
    "        print(\"Please try again and enter non-negative number\")\n",
    "\n",
    "print()\n",
    "\n",
    "while True:\n",
    "    try:\n",
    "        number_of_transfers = int(input(\"The number of your transfers: \"))\n",
    "        if number_of_transfers >= 0:\n",
    "            break\n",
    "        else:\n",
    "            print(\"Please try again and enter non-negative integer\")\n",
    "    except (ValueError):\n",
    "        print(\"Please try again and enter non-negative integer\")\n",
    "\n",
    "print()\n",
    "\n",
    "while True:\n",
    "    refund = input(\"Is refund included? (yes / no): \")\n",
    "    if refund == \"yes\" or refund == \"no\":\n",
    "        break\n",
    "    else:\n",
    "        print(\"Please try again and enter 'yes' or 'no'\")\n",
    "\n",
    "print()\n",
    "\n",
    "while True:\n",
    "    luggage = input(\"Is luggage included? (yes / no): \")\n",
    "    if luggage == \"yes\" or luggage == \"no\":\n",
    "        break\n",
    "    else:\n",
    "        print(\"Please try again and enter 'yes' or 'no'\")\n",
    "\n",
    "print()\n",
    "print('------------------------------------')\n",
    "print()\n",
    "        \n",
    "if (0 <= float(price) <= 200 and \n",
    "    0 <= int(number_of_transfers) <= 1 and\n",
    "    refund == 'yes' and\n",
    "    luggage == 'yes'):\n",
    "    print('Offer class: the best')\n",
    "        \n",
    "elif (200 < float(price) <= 250 and \n",
    "    0 <= int(number_of_transfers) <= 2 and\n",
    "    (refund == 'yes' or refund == 'no') and\n",
    "    (luggage == 'yes' or luggage == 'no')):\n",
    "    print('Offer class: good enough')\n",
    "        \n",
    "elif (float(price) > 250 and \n",
    "    int(number_of_transfers) >= 3 and\n",
    "    (refund == 'yes' or refund == 'no') and\n",
    "    (luggage == 'yes' or luggage == 'no')):\n",
    "    print('Offer class: bad')\n",
    "        \n",
    "else:\n",
    "    print('Offer class: other')"
   ]
  },
  {
   "cell_type": "markdown",
   "id": "24e72744",
   "metadata": {},
   "source": [
    "<a id='b'></a>"
   ]
  },
  {
   "cell_type": "markdown",
   "id": "15d1da56",
   "metadata": {},
   "source": [
    "## Aggregator Analysis"
   ]
  },
  {
   "cell_type": "markdown",
   "id": "7cfdb322",
   "metadata": {},
   "source": [
    "What if the ticket price is less than \\\\$100, there are no transfers, but luggage and refunds are not included? Can such an option really be considered bad or insufficiently acceptable ?\n",
    "\n",
    "I wouldn't say that. Indeed, the most important thing for people is the price. The Cheaper! So much the better!\n",
    "\n",
    "Of course, the number of transfers is also very important, because few people will want to fly with five transfers for \\\\$100, if there is an opportunity to pay another \\\\$30 conditionally and save a lot of time and effort. But again, no relevant analysis has been carried out to say so.\n",
    "\n",
    "And what if flying with five transfers is a necessity and there is no other way out. In this case, quantity no longer plays a role, people primarily look at the price. At least, that's my logic.\n",
    "\n",
    "But in order to implement the above in the aggregator, you need to approach the situation more comprehensively. Therefore, this aggregator is not quite accurate, because it does not take into account the subtleties."
   ]
  },
  {
   "cell_type": "markdown",
   "id": "35fbb5cb",
   "metadata": {},
   "source": [
    "<a id='c'></a>"
   ]
  },
  {
   "cell_type": "markdown",
   "id": "b04043cc",
   "metadata": {},
   "source": [
    "## Alternative solution"
   ]
  },
  {
   "cell_type": "markdown",
   "id": "d446030d",
   "metadata": {},
   "source": [
    "To get closer to what I wrote above, I suggest introducing a weighting factor for each criterion.\n",
    "\n",
    "Let's take it out of our heads, since we do not have statistical data, a survey of passengers (what is most important for them, and how would they assess the importance of criteria on a 10-point scale).\n",
    "\n",
    "Consider the following variant of weight coefficients:\n",
    " - price ~ 0.4\n",
    " - the number of transfers ~ 0.3\n",
    " - refund ~ 0.15\n",
    " - luggage ~ 0.15\n",
    "\n",
    "We will not add additional criteria yet (in any case, this can be done at any time).\n",
    "\n",
    "Additionally, the criteria 'baggage' and 'refund' will be reduced to a modified Boolean type, where 0.3 - there is a luggage space / there is a refund, 0.8 - there is no luggage space / funds are not returned.\n",
    "\n",
    "The actions are as follows: for each ticket, all criteria multiplied by their coefficients will be summed up. The smaller the result, the better the offer class.\n",
    "\n",
    "But for this it is necessary to scale the criterion of price and number of transfers, otherwise the result will be difficult to evaluate. Let's say \\\\$200 per flight is 0.5 units, then we will reduce any price by 400 times. By analogy, we will proceed with the number of transfers. Let 5 transfers be 1 unit, then we will divide any number of transfers by 5.\n",
    "\n",
    "With such constants, we will get the resulting number in the approximate range from 0 to 1. Then let's say that if this number:\n",
    "- below 0.3 is the best offer;\n",
    "- from 0.3 to 0.5 - good;\n",
    "- more than 0.5 is bad."
   ]
  },
  {
   "cell_type": "code",
   "execution_count": 6,
   "id": "6eea2d8f",
   "metadata": {},
   "outputs": [
    {
     "name": "stdout",
     "output_type": "stream",
     "text": [
      "The price of your ticket: 100\n",
      "\n",
      "The number of your transfers: 0\n",
      "\n",
      "Is refund included? (yes / no): no\n",
      "\n",
      "Is luggage included? (yes / no): no\n",
      "\n",
      "-----------------------------------------\n",
      "\n",
      "The resulting number:  0.33999999999999997\n",
      "Offer class: good enough\n"
     ]
    }
   ],
   "source": [
    "while True:\n",
    "    try:\n",
    "        price = float(input(\"The price of your ticket: \"))\n",
    "        if price >= 0:\n",
    "            break\n",
    "        else:\n",
    "            print(\"Please try again and enter non-negative number\")\n",
    "    except (ValueError):\n",
    "        print(\"Please try again and enter non-negative number\")\n",
    "\n",
    "print()\n",
    "\n",
    "while True:\n",
    "    try:\n",
    "        number_of_transfers = int(input(\"The number of your transfers: \"))\n",
    "        if number_of_transfers >= 0:\n",
    "            break\n",
    "        else:\n",
    "            print(\"Please try again and enter non-negative integer\")\n",
    "    except (ValueError):\n",
    "        print(\"Please try again and enter non-negative integer\")\n",
    "\n",
    "print()\n",
    "\n",
    "while True:\n",
    "    refund = input(\"Is refund included? (yes / no): \")\n",
    "    if refund == \"yes\" or refund == \"no\":\n",
    "        break\n",
    "    else:\n",
    "        print(\"Please try again and enter 'yes' or 'no'\")\n",
    "\n",
    "print()\n",
    "\n",
    "while True:\n",
    "    luggage = input(\"Is luggage included? (yes / no): \")\n",
    "    if luggage == \"yes\" or luggage == \"no\":\n",
    "        break\n",
    "    else:\n",
    "        print(\"Please try again and enter 'yes' or 'no'\")\n",
    "\n",
    "print()\n",
    "print('-----------------------------------------')\n",
    "print()\n",
    "\n",
    "if refund == 'yes':\n",
    "    refund = 0.3\n",
    "elif refund == 'no':\n",
    "    refund = 0.8\n",
    "    \n",
    "if luggage == 'yes':\n",
    "    luggage = 0.3\n",
    "elif luggage == 'no':\n",
    "    luggage = 0.8\n",
    "\n",
    "    \n",
    "rezult = price * 0.4 / 400 + number_of_transfers * 0.3 / 5 + refund * 0.15 + luggage * 0.15\n",
    "print('The resulting number: ', rezult)\n",
    "\n",
    "if rezult <= 0.3:\n",
    "    print('Offer class: the best')\n",
    "elif 0.3 < rezult <=0.5:\n",
    "    print('Offer class: good enough')\n",
    "elif rezult > 0.5:\n",
    "    print('Offer class: bad')"
   ]
  },
  {
   "cell_type": "markdown",
   "id": "98009fd2",
   "metadata": {},
   "source": [
    "As a result, we got that the flight price of $ 100, the absence of transfers, baggage and refunds is a good offer, and not 'other', as it was in the previous aggregator.\n",
    "\n",
    "It is clear that there is still something to refine here: at least it is worth working on scaling criteria and calculating weight coefficients, but for this you need to interview a rather large number of passengers.\n",
    "\n",
    "**But the idea is this.**"
   ]
  },
  {
   "cell_type": "code",
   "execution_count": null,
   "id": "fcc8b9ad",
   "metadata": {},
   "outputs": [],
   "source": []
  }
 ],
 "metadata": {
  "kernelspec": {
   "display_name": "Python 3",
   "language": "python",
   "name": "python3"
  },
  "language_info": {
   "codemirror_mode": {
    "name": "ipython",
    "version": 3
   },
   "file_extension": ".py",
   "mimetype": "text/x-python",
   "name": "python",
   "nbconvert_exporter": "python",
   "pygments_lexer": "ipython3",
   "version": "3.7.10"
  }
 },
 "nbformat": 4,
 "nbformat_minor": 5
}
