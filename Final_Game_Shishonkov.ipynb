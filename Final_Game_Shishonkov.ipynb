{
 "cells": [
  {
   "cell_type": "markdown",
   "metadata": {},
   "source": [
    "# Snake Game\n",
    "\n",
    "<br>\n",
    "\n",
    "**Description**\n",
    "\n",
    "You control the snake and your goal is to eat as much food as possible (in our case, it's a red square)\n",
    "\n",
    "You can direct the snake up, down, right or left using the keys (ᐃ, ᐁ, ᐅ, ᐊ) respectively.\n",
    "\n",
    "It is also important to note that the game ends when the snake bumps into the edge of the board or its own tail.\n",
    "\n",
    "<br>\n",
    "\n",
    "**Actions**\n",
    "\n",
    "* The direction of the snake is set by the head, i.e. the rest of the snake after the head moves along the same trajectory as the head after it;\n",
    "* If a snake eats a red square, it becomes one unit longer;\n",
    "* If the snake bites itself, then the game stops and the bite spot lights up red;\n",
    "* If the snake hits the borders of the board, then the game stops and the snake's head lights up red."
   ]
  },
  {
   "cell_type": "markdown",
   "metadata": {},
   "source": [
    "## Creating functions\n",
    "\n",
    "As far as I understood the task, I could choose the code of one of the games taken from the open source specified in the task and modify it to create a hero with different characteristics and so on.\n",
    "\n",
    "What I did:\n",
    "\n",
    "- gave the player the opportunity to choose the characteristic of the snake (its color). By analogy, you can do it with snake food (change the color of the square).\n",
    "\n",
    "- made it possible to choose the game mode (light, medium or heavy), thereby changing the settings of the classic Snake game (for example, for heavy mode, the board has become smaller and the speed is higher)\n",
    "\n",
    "- Converted the functions of the game code to change the settings\n",
    "\n",
    "I hope this is what was required of me.\n",
    "<br>\n",
    "<br>\n",
    "<br>\n",
    "**The characteristic of the snake**\n",
    "* The player can choose the black, blue or yellow color of the snake\n",
    "<br>\n",
    "<br>\n",
    "\n",
    "**The game mode**\n",
    " * Light - the usual classic snake on a large field with low speed;\n",
    " * Medium - the field is the same size, but the speed is higher;\n",
    " * Heavy - the field is smaller and the speed is high."
   ]
  },
  {
   "cell_type": "markdown",
   "metadata": {},
   "source": [
    "First of all, we import all the necessary libraries"
   ]
  },
  {
   "cell_type": "code",
   "execution_count": 1,
   "metadata": {},
   "outputs": [],
   "source": [
    "from random import randrange\n",
    "from turtle import *\n",
    "from freegames import square, vector"
   ]
  },
  {
   "cell_type": "markdown",
   "metadata": {},
   "source": [
    "Now we will write a function for displaying game parameters depending on the wishes of the player"
   ]
  },
  {
   "cell_type": "code",
   "execution_count": 2,
   "metadata": {},
   "outputs": [
    {
     "name": "stdout",
     "output_type": "stream",
     "text": [
      "Which snake do you want (black, blue or yellow)?\n",
      "Please, put:\n",
      "1 - if you chose black\n",
      "2 - if you chose blue\n",
      "3 - if you chose yellow\n",
      "3\n",
      "\n",
      "Please select the mode:\n",
      "1 - if you chose light\n",
      "2 - if you chose medium\n",
      "3 - if you chose heavy\n",
      "2\n"
     ]
    }
   ],
   "source": [
    "def choice(string):\n",
    "    while True:\n",
    "        try:\n",
    "            x = int(input(string))\n",
    "            if x == 1 or x == 2 or x == 3:\n",
    "                break\n",
    "            else:\n",
    "                print()\n",
    "                print(\"Please try again and enter 1, 2 or 3\")\n",
    "                print()\n",
    "                print()\n",
    "        except (ValueError):\n",
    "            print(\"Please try again and enter 1, 2 or 3\")\n",
    "    return x\n",
    "\n",
    "\n",
    "string_1 = 'Which snake do you want (black, blue or yellow)?\\nPlease, put:\\n1 - if you chose black\\n2 - if you chose blue\\n3 - if you chose yellow\\n'\n",
    "string_2 = 'Please select the mode:\\n1 - if you chose light\\n2 - if you chose medium\\n3 - if you chose heavy\\n'\n",
    "\n",
    "color = choice(string_1)\n",
    "print()\n",
    "mode = choice(string_2)"
   ]
  },
  {
   "cell_type": "markdown",
   "metadata": {},
   "source": [
    "In the previous step, we asked the player to choose the color and game mode by writing 1, 2 or 3.\n",
    "\n",
    "Why did we choose digital input?\n",
    "Because it is convenient and fast. If the player enters the name of the color, he may make a mistake in its spelling.\n",
    "\n",
    "\n",
    "Now, in order to be able to use the snake color value entered by the player, we will convert them back to their original form, i.e. instead of 1 it will be black, instead of 2 it will be blue, etc."
   ]
  },
  {
   "cell_type": "code",
   "execution_count": 3,
   "metadata": {},
   "outputs": [],
   "source": [
    "def color_word(color):\n",
    "    if color == 1:\n",
    "        col = 'black'\n",
    "    elif color == 2:\n",
    "        col = 'blue'\n",
    "    elif color == 3:\n",
    "        col = 'yellow'\n",
    "    return col\n",
    "\n",
    "\n",
    "col = color_word(color)"
   ]
  },
  {
   "cell_type": "markdown",
   "metadata": {},
   "source": [
    "Now let's write a function that, depending on the game mode selected by the user, will assign the speed (speedo) and the size of the field (x1, x2, y1, y2)"
   ]
  },
  {
   "cell_type": "code",
   "execution_count": 4,
   "metadata": {},
   "outputs": [],
   "source": [
    "def mode_speed_size(mode):\n",
    "    if mode == 1 or mode == 2:\n",
    "        x1 = -280\n",
    "        x2 = 270\n",
    "        y1 = -270\n",
    "        y2 = 280\n",
    "        if mode == 1:\n",
    "            speedo = 100\n",
    "        else:\n",
    "            speedo = 50\n",
    "    else:\n",
    "        speedo = 50\n",
    "        x1 = -210\n",
    "        x2 = 190\n",
    "        y1 = -200\n",
    "        y2 = 200\n",
    "    return x1, x2, y1, y2, speedo\n",
    "\n",
    "\n",
    "x1, x2, y1, y2, speedo = mode_speed_size(mode)"
   ]
  },
  {
   "cell_type": "markdown",
   "metadata": {},
   "source": [
    "And finally, we integrate all the parameters selected by the player into the game \"engine\". More specifically: in the \"move()\" and \"inside()\" functions.\n",
    "\n",
    "\n",
    "And also add the function \"set_up()\", which will display the size of the game window depending on the size of the playing field."
   ]
  },
  {
   "cell_type": "code",
   "execution_count": 5,
   "metadata": {},
   "outputs": [
    {
     "name": "stdout",
     "output_type": "stream",
     "text": [
      "Snake: 2\n",
      "Snake: 3\n",
      "Snake: 4\n",
      "Snake: 5\n",
      "Snake: 6\n",
      "Snake: 7\n",
      "Snake: 8\n",
      "Snake: 9\n",
      "Snake: 10\n",
      "Snake: 11\n",
      "Snake: 12\n",
      "Snake: 13\n",
      "Snake: 14\n",
      "Snake: 15\n",
      "Snake: 16\n",
      "Snake: 17\n",
      "Snake: 18\n",
      "Snake: 19\n",
      "Snake: 20\n",
      "Snake: 21\n",
      "Snake: 22\n",
      "Snake: 23\n",
      "Snake: 24\n"
     ]
    }
   ],
   "source": [
    "food = vector(0, 0)\n",
    "snake = [vector(10, 0)]\n",
    "aim = vector(0, -10)\n",
    "\n",
    "\n",
    "\n",
    "def change(x, y):\n",
    "    \"Change snake direction.\"\n",
    "    aim.x = x\n",
    "    aim.y = y\n",
    "\n",
    "\n",
    "def inside(head):\n",
    "    \"Return True if head inside boundaries.\"\n",
    "    return x1 < head.x < x2 and y1 < head.y < y2\n",
    "\n",
    "\n",
    "def move():\n",
    "    \"Move snake forward one segment.\"\n",
    "    head = snake[-1].copy()\n",
    "    head.move(aim)\n",
    "\n",
    "    if not inside(head) or head in snake:\n",
    "        square(head.x, head.y, 9, 'red')\n",
    "        update()\n",
    "        return\n",
    "\n",
    "    snake.append(head)\n",
    "\n",
    "    if head == food:\n",
    "        print('Snake:', len(snake))\n",
    "        food.x = randrange(-15, 15) * 10\n",
    "        food.y = randrange(-15, 15) * 10\n",
    "    else:\n",
    "        snake.pop(0)\n",
    "\n",
    "    clear()\n",
    "\n",
    "    for body in snake:\n",
    "        square(body.x, body.y, 9, col)\n",
    "\n",
    "    square(food.x, food.y, 9, 'green')\n",
    "    update()\n",
    "    ontimer(move, speedo)\n",
    "\n",
    "def set_up(x1, x2, y1, y2):\n",
    "    if x1 == -280 and x2 == 270 and y1 == -270 and y2 == 280:\n",
    "        return setup((abs(x1) + x2 + 10), (abs(y1) + y2 + 10), 370, 0)\n",
    "    else:\n",
    "        return setup(420, 420, 370, 0)\n",
    "\n",
    "set_up(x1, x2, y1, y2)\n",
    "# setup((abs(x1) + x2 + 10), (abs(y1) + y2 + 10), 370, 0)\n",
    "hideturtle()\n",
    "tracer(False)\n",
    "listen()\n",
    "onkey(lambda: change(10, 0), 'Right')\n",
    "onkey(lambda: change(-10, 0), 'Left')\n",
    "onkey(lambda: change(0, 10), 'Up')\n",
    "onkey(lambda: change(0, -10), 'Down')\n",
    "move()\n",
    "done()"
   ]
  },
  {
   "cell_type": "markdown",
   "metadata": {},
   "source": [
    "**Attention!!!** For the \"heavy\" mode, you may not have time to open the game window before defeat. Because the field is quite small, and the speed is high."
   ]
  }
 ],
 "metadata": {
  "kernelspec": {
   "display_name": "Python 3",
   "language": "python",
   "name": "python3"
  },
  "language_info": {
   "codemirror_mode": {
    "name": "ipython",
    "version": 3
   },
   "file_extension": ".py",
   "mimetype": "text/x-python",
   "name": "python",
   "nbconvert_exporter": "python",
   "pygments_lexer": "ipython3",
   "version": "3.8.10"
  }
 },
 "nbformat": 4,
 "nbformat_minor": 5
}
