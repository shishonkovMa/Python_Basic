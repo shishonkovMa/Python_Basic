{
 "cells": [
  {
   "cell_type": "code",
   "execution_count": 19,
   "id": "aaaefa91",
   "metadata": {},
   "outputs": [
    {
     "data": {
      "text/plain": [
       "2"
      ]
     },
     "execution_count": 19,
     "metadata": {},
     "output_type": "execute_result"
    }
   ],
   "source": [
    "class Node:\n",
    "    def __init__(self, key):\n",
    "        self.first = None    #first child\n",
    "        self.second = None  #second child\n",
    "        self.third = None # third child\n",
    "        self.val = key # value of the node\n",
    "        \n",
    "\n",
    "def count_num_internal_nodes_with_one_child (root):\n",
    "    count = 0\n",
    "    if root is None:\n",
    "        return 0\n",
    "    \n",
    "    if (((root.first == None and root.second == None) or\n",
    "        (root.first == None and root.third == None) or\n",
    "        (root.second == None and root.third == None)) and\n",
    "        (root.first != None and root.first != None and root.first != None)):\n",
    "        count += 1\n",
    "    return (count + \n",
    "            count_num_internal_nodes_with_one_child (root.first) + \n",
    "            count_num_internal_nodes_with_one_child (root.second) + \n",
    "            count_num_internal_nodes_with_one_child (root.third))\n",
    "\n",
    "\n",
    "tree = Node(1)\n",
    "tree.first = Node(2)\n",
    "tree.second = Node(3)\n",
    "tree.first.first = Node(4)\n",
    "tree.first.first.first = Node(5)\n",
    "count_one_node(tree)"
   ]
  },
  {
   "cell_type": "code",
   "execution_count": null,
   "id": "350c6465",
   "metadata": {},
   "outputs": [],
   "source": []
  }
 ],
 "metadata": {
  "kernelspec": {
   "display_name": "Python 3",
   "language": "python",
   "name": "python3"
  },
  "language_info": {
   "codemirror_mode": {
    "name": "ipython",
    "version": 3
   },
   "file_extension": ".py",
   "mimetype": "text/x-python",
   "name": "python",
   "nbconvert_exporter": "python",
   "pygments_lexer": "ipython3",
   "version": "3.7.10"
  }
 },
 "nbformat": 4,
 "nbformat_minor": 5
}
